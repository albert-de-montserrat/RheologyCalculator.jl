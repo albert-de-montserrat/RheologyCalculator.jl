{
 "cells": [
  {
   "cell_type": "code",
   "execution_count": 39,
   "metadata": {},
   "outputs": [],
   "source": [
    "using Symbolics"
   ]
  },
  {
   "cell_type": "code",
   "execution_count": 40,
   "metadata": {},
   "outputs": [
    {
     "data": {
      "text/plain": [
       "(τxx0, τxy0)"
      ]
     },
     "metadata": {},
     "output_type": "display_data"
    }
   ],
   "source": [
    "@syms η_v η_e \n",
    "@syms ε̇xx ε̇xy\n",
    "@syms τxx0 τxy0"
   ]
  },
  {
   "cell_type": "code",
   "execution_count": 41,
   "metadata": {},
   "outputs": [
    {
     "data": {
      "text/latex": [
       "$$ \\begin{equation}\n",
       "\\frac{2 \\left( \\frac{\\frac{1}{2} \\mathtt{{\\tau}xy0}}{\\mathtt{\\eta_{e}}} + \\mathtt{{\\dot{\\varepsilon}}xy} \\right)}{\\frac{1}{\\mathtt{\\eta_{v}}} + \\frac{1}{\\mathtt{\\eta_{e}}}}\n",
       "\\end{equation}\n",
       " $$"
      ],
      "text/plain": [
       "(2(((1//2)*τxy0) / η_e + ε̇xy)) / (1 / η_v + 1 / η_e)"
      ]
     },
     "metadata": {},
     "output_type": "display_data"
    }
   ],
   "source": [
    "# Maxwell VE model using backward-Euler rule\n",
    "η_ve = (1/η_v + 1/η_e)^(-1)\n",
    "τxx  = 2*η_ve*(ε̇xx + τxx0/2/η_e)\n",
    "τxy  = 2*η_ve*(ε̇xy + τxy0/2/η_e)"
   ]
  },
  {
   "cell_type": "code",
   "execution_count": 42,
   "metadata": {},
   "outputs": [
    {
     "data": {
      "text/latex": [
       "$$ \\begin{equation}\n",
       "\\frac{\\frac{1}{2} \\left( \\frac{2 \\left( \\frac{\\frac{1}{2} \\mathtt{{\\tau}xy0}}{\\mathtt{\\eta_{e}}} + \\mathtt{{\\dot{\\varepsilon}}xy} \\right)}{\\frac{1}{\\mathtt{\\eta_{v}}} + \\frac{1}{\\mathtt{\\eta_{e}}}} - \\mathtt{{\\tau}xy0} \\right)}{\\mathtt{\\eta_{e}}}\n",
       "\\end{equation}\n",
       " $$"
      ],
      "text/plain": [
       "((1//2)*((2(((1//2)*τxy0) / η_e + ε̇xy)) / (1 / η_v + 1 / η_e) - τxy0)) / η_e"
      ]
     },
     "metadata": {},
     "output_type": "display_data"
    }
   ],
   "source": [
    "# VE Strain rate tensor components\n",
    "ε̇xx_v = τxx/2/η_v\n",
    "ε̇xy_v = τxy/2/η_v\n",
    "ε̇xx_e = (τxx - τxx0)/2/η_e\n",
    "ε̇xy_e = (τxy - τxy0)/2/η_e"
   ]
  },
  {
   "cell_type": "code",
   "execution_count": 43,
   "metadata": {},
   "outputs": [
    {
     "data": {
      "text/plain": [
       "0"
      ]
     },
     "metadata": {},
     "output_type": "display_data"
    },
    {
     "data": {
      "text/plain": [
       "0"
      ]
     },
     "metadata": {},
     "output_type": "display_data"
    },
    {
     "data": {
      "text/plain": [
       "0.0"
      ]
     },
     "metadata": {},
     "output_type": "display_data"
    }
   ],
   "source": [
    "# Per dimension residual: OK\n",
    "r = ε̇xx - ε̇xx_v - ε̇xx_e\n",
    "display(simplify(r))\n",
    "r = ε̇xy - ε̇xy_v - ε̇xy_e\n",
    "display(simplify(r))\n",
    "f = rxx^2 + rxy^2\n"
   ]
  },
  {
   "cell_type": "code",
   "execution_count": 44,
   "metadata": {},
   "outputs": [
    {
     "data": {
      "text/plain": [
       "0"
      ]
     },
     "metadata": {},
     "output_type": "display_data"
    }
   ],
   "source": [
    "# Effective strain rate residual (Anton's approach): OK \n",
    "ε̇II_eff = sqrt((ε̇xx + τxx0/2/η_e)^2 + (ε̇xy + τxy0/2/η_e)^2)\n",
    "τII     = 2*η_ve*ε̇II_eff\n",
    "ε̇II_v   = τII/2/η_v\n",
    "r       = ε̇II_eff - ε̇II_v - τII/2/η_e\n",
    "simplify(r)\n"
   ]
  },
  {
   "cell_type": "code",
   "execution_count": 45,
   "metadata": {},
   "outputs": [
    {
     "data": {
      "text/latex": [
       "$$ \\begin{equation}\n",
       "\\frac{\\sqrt{\\mathtt{{\\dot{\\varepsilon}}xx}^{2} + \\mathtt{{\\dot{\\varepsilon}}xy}^{2}} \\mathtt{\\eta_{e}} + \\sqrt{\\mathtt{{\\dot{\\varepsilon}}xx}^{2} + \\mathtt{{\\dot{\\varepsilon}}xy}^{2}} \\mathtt{\\eta_{v}} - \\sqrt{\\frac{\\frac{1}{4} \\mathtt{{\\tau}xx0}^{2} + \\frac{1}{4} \\mathtt{{\\tau}xy0}^{2} + \\mathtt{{\\dot{\\varepsilon}}xx} \\mathtt{\\eta_{e}} \\mathtt{{\\tau}xx0} + \\mathtt{{\\dot{\\varepsilon}}xy} \\mathtt{\\eta_{e}} \\mathtt{{\\tau}xy0} + \\mathtt{\\eta_{e}}^{2} \\mathtt{{\\dot{\\varepsilon}}xx}^{2} + \\mathtt{\\eta_{e}}^{2} \\mathtt{{\\dot{\\varepsilon}}xy}^{2}}{\\mathtt{\\eta_{e}}^{2}}} \\mathtt{\\eta_{e}} - \\sqrt{\\frac{\\frac{1}{4} \\mathtt{{\\tau}xx0}^{2} + \\frac{1}{4} \\mathtt{{\\tau}xy0}^{2} - \\mathtt{{\\dot{\\varepsilon}}xx} \\mathtt{\\eta_{v}} \\mathtt{{\\tau}xx0} - \\mathtt{{\\dot{\\varepsilon}}xy} \\mathtt{\\eta_{v}} \\mathtt{{\\tau}xy0} + \\mathtt{\\eta_{v}}^{2} \\mathtt{{\\dot{\\varepsilon}}xx}^{2} + \\mathtt{\\eta_{v}}^{2} \\mathtt{{\\dot{\\varepsilon}}xy}^{2}}{\\left( \\mathtt{\\eta_{e}} + \\mathtt{\\eta_{v}} \\right)^{2}}} \\mathtt{\\eta_{e}} - \\sqrt{\\frac{\\frac{1}{4} \\mathtt{{\\tau}xx0}^{2} + \\frac{1}{4} \\mathtt{{\\tau}xy0}^{2} - \\mathtt{{\\dot{\\varepsilon}}xx} \\mathtt{\\eta_{v}} \\mathtt{{\\tau}xx0} - \\mathtt{{\\dot{\\varepsilon}}xy} \\mathtt{\\eta_{v}} \\mathtt{{\\tau}xy0} + \\mathtt{\\eta_{v}}^{2} \\mathtt{{\\dot{\\varepsilon}}xx}^{2} + \\mathtt{\\eta_{v}}^{2} \\mathtt{{\\dot{\\varepsilon}}xy}^{2}}{\\left( \\mathtt{\\eta_{e}} + \\mathtt{\\eta_{v}} \\right)^{2}}} \\mathtt{\\eta_{v}}}{\\mathtt{\\eta_{e}} + \\mathtt{\\eta_{v}}}\n",
       "\\end{equation}\n",
       " $$"
      ],
      "text/plain": [
       "(sqrt(ε̇xx^2 + ε̇xy^2)*η_e + sqrt(ε̇xx^2 + ε̇xy^2)*η_v - sqrt(((1//4)*(τxx0^2) + (1//4)*(τxy0^2) + ε̇xx*η_e*τxx0 + ε̇xy*η_e*τxy0 + (ε̇xx^2)*(η_e^2) + (ε̇xy^2)*(η_e^2)) / (η_e^2))*η_e - sqrt(((1//4)*(τxx0^2) + (1//4)*(τxy0^2) - ε̇xx*η_v*τxx0 - ε̇xy*η_v*τxy0 + (ε̇xx^2)*(η_v^2) + (ε̇xy^2)*(η_v^2)) / ((η_e + η_v)^2))*η_e - sqrt(((1//4)*(τxx0^2) + (1//4)*(τxy0^2) - ε̇xx*η_v*τxx0 - ε̇xy*η_v*τxy0 + (ε̇xx^2)*(η_v^2) + (ε̇xy^2)*(η_v^2)) / ((η_e + η_v)^2))*η_v) / (η_e + η_v)"
      ]
     },
     "metadata": {},
     "output_type": "display_data"
    }
   ],
   "source": [
    "# Invariant residual: not OK\n",
    "ε̇II   = sqrt(ε̇xx^2   + ε̇xy^2  )\n",
    "# ε̇II_v = sqrt(ε̇xx_v^2 + ε̇xy_v^2)\n",
    "ε̇II_e = sqrt(ε̇xx_e^2 + ε̇xy_e^2)\n",
    "r     = ε̇II - ε̇II_v - ε̇II_e\n",
    "simplify(r)"
   ]
  },
  {
   "cell_type": "code",
   "execution_count": 47,
   "metadata": {},
   "outputs": [
    {
     "data": {
      "text/latex": [
       "$$ \\begin{equation}\n",
       "\\frac{\\sqrt{\\mathtt{{\\tau}xx0}^{2} + \\mathtt{{\\tau}xy0}^{2}} + 2 \\sqrt{\\mathtt{{\\dot{\\varepsilon}}xx}^{2} + \\mathtt{{\\dot{\\varepsilon}}xy}^{2}} \\mathtt{\\eta_{e}} - 2 \\sqrt{\\frac{\\frac{1}{4} \\mathtt{{\\tau}xx0}^{2} + \\frac{1}{4} \\mathtt{{\\tau}xy0}^{2} + \\mathtt{{\\dot{\\varepsilon}}xx} \\mathtt{\\eta_{e}} \\mathtt{{\\tau}xx0} + \\mathtt{{\\dot{\\varepsilon}}xy} \\mathtt{\\eta_{e}} \\mathtt{{\\tau}xy0} + \\mathtt{\\eta_{e}}^{2} \\mathtt{{\\dot{\\varepsilon}}xx}^{2} + \\mathtt{\\eta_{e}}^{2} \\mathtt{{\\dot{\\varepsilon}}xy}^{2}}{\\mathtt{\\eta_{e}}^{2}}} \\mathtt{\\eta_{e}}}{2 \\mathtt{\\eta_{e}}}\n",
       "\\end{equation}\n",
       " $$"
      ],
      "text/plain": [
       "(sqrt(τxx0^2 + τxy0^2) + (2//1)*sqrt(ε̇xx^2 + ε̇xy^2)*η_e - (2//1)*sqrt(((1//4)*(τxx0^2) + (1//4)*(τxy0^2) + ε̇xx*η_e*τxx0 + ε̇xy*η_e*τxy0 + (ε̇xx^2)*(η_e^2) + (ε̇xy^2)*(η_e^2)) / (η_e^2))*η_e) / (2η_e)"
      ]
     },
     "metadata": {},
     "output_type": "display_data"
    }
   ],
   "source": [
    "# Invariant residual using weird elastic strain rate: not OK\n",
    "τII0  = sqrt(τxx0^2 + τxy0^2)\n",
    "ε̇II_e = (τII - τII0)/2/η_e   \n",
    "r     = ε̇II - ε̇II_v - ε̇II_e\n",
    "simplify(r)"
   ]
  },
  {
   "cell_type": "code",
   "execution_count": 48,
   "metadata": {},
   "outputs": [
    {
     "data": {
      "text/latex": [
       "$$ \\begin{equation}\n",
       "\\sqrt{\\left( \\frac{\\frac{\\frac{1}{2} \\mathtt{{\\tau}xy0}}{\\mathtt{\\eta_{e}}} + \\mathtt{{\\dot{\\varepsilon}}xy}}{\\left( \\frac{1}{\\mathtt{\\eta_{v}}} + \\frac{1}{\\mathtt{\\eta_{e}}} \\right) \\mathtt{\\eta_{v}}} \\right)^{2} + \\left( \\frac{\\frac{\\frac{1}{2} \\mathtt{{\\tau}xx0}}{\\mathtt{\\eta_{e}}} + \\mathtt{{\\dot{\\varepsilon}}xx}}{\\left( \\frac{1}{\\mathtt{\\eta_{v}}} + \\frac{1}{\\mathtt{\\eta_{e}}} \\right) \\mathtt{\\eta_{v}}} \\right)^{2}}\n",
       "\\end{equation}\n",
       " $$"
      ],
      "text/plain": [
       "sqrt(((((1//2)*τxy0) / η_e + ε̇xy) / ((1 / η_v + 1 / η_e)*η_v))^2 + ((((1//2)*τxx0) / η_e + ε̇xx) / ((1 / η_v + 1 / η_e)*η_v))^2)"
      ]
     },
     "metadata": {},
     "output_type": "display_data"
    },
    {
     "data": {
      "text/latex": [
       "$$ \\begin{equation}\n",
       "\\frac{\\sqrt{\\left( \\frac{\\frac{1}{2} \\mathtt{{\\tau}xx0}}{\\mathtt{\\eta_{e}}} + \\mathtt{{\\dot{\\varepsilon}}xx} \\right)^{2} + \\left( \\frac{\\frac{1}{2} \\mathtt{{\\tau}xy0}}{\\mathtt{\\eta_{e}}} + \\mathtt{{\\dot{\\varepsilon}}xy} \\right)^{2}}}{\\left( \\frac{1}{\\mathtt{\\eta_{v}}} + \\frac{1}{\\mathtt{\\eta_{e}}} \\right) \\mathtt{\\eta_{v}}}\n",
       "\\end{equation}\n",
       " $$"
      ],
      "text/plain": [
       "sqrt((((1//2)*τxx0) / η_e + ε̇xx)^2 + (((1//2)*τxy0) / η_e + ε̇xy)^2) / ((1 / η_v + 1 / η_e)*η_v)"
      ]
     },
     "metadata": {},
     "output_type": "display_data"
    },
    {
     "data": {
      "text/latex": [
       "$$ \\begin{equation}\n",
       "\\frac{\\sqrt{\\frac{\\frac{1}{4} \\mathtt{{\\tau}xx0}^{2} + \\frac{1}{4} \\mathtt{{\\tau}xy0}^{2} + \\mathtt{{\\dot{\\varepsilon}}xx} \\mathtt{\\eta_{e}} \\mathtt{{\\tau}xx0} + \\mathtt{{\\dot{\\varepsilon}}xy} \\mathtt{\\eta_{e}} \\mathtt{{\\tau}xy0} + \\mathtt{\\eta_{e}}^{2} \\mathtt{{\\dot{\\varepsilon}}xx}^{2} + \\mathtt{\\eta_{e}}^{2} \\mathtt{{\\dot{\\varepsilon}}xy}^{2}}{\\left( \\mathtt{\\eta_{e}} + \\mathtt{\\eta_{v}} \\right)^{2}}} \\mathtt{\\eta_{e}} + \\sqrt{\\frac{\\frac{1}{4} \\mathtt{{\\tau}xx0}^{2} + \\frac{1}{4} \\mathtt{{\\tau}xy0}^{2} + \\mathtt{{\\dot{\\varepsilon}}xx} \\mathtt{\\eta_{e}} \\mathtt{{\\tau}xx0} + \\mathtt{{\\dot{\\varepsilon}}xy} \\mathtt{\\eta_{e}} \\mathtt{{\\tau}xy0} + \\mathtt{\\eta_{e}}^{2} \\mathtt{{\\dot{\\varepsilon}}xx}^{2} + \\mathtt{\\eta_{e}}^{2} \\mathtt{{\\dot{\\varepsilon}}xy}^{2}}{\\left( \\mathtt{\\eta_{e}} + \\mathtt{\\eta_{v}} \\right)^{2}}} \\mathtt{\\eta_{v}} - \\sqrt{\\frac{\\frac{1}{4} \\mathtt{{\\tau}xx0}^{2} + \\frac{1}{4} \\mathtt{{\\tau}xy0}^{2} + \\mathtt{{\\dot{\\varepsilon}}xx} \\mathtt{\\eta_{e}} \\mathtt{{\\tau}xx0} + \\mathtt{{\\dot{\\varepsilon}}xy} \\mathtt{\\eta_{e}} \\mathtt{{\\tau}xy0} + \\mathtt{\\eta_{e}}^{2} \\mathtt{{\\dot{\\varepsilon}}xx}^{2} + \\mathtt{\\eta_{e}}^{2} \\mathtt{{\\dot{\\varepsilon}}xy}^{2}}{\\mathtt{\\eta_{e}}^{2}}} \\mathtt{\\eta_{e}}}{\\mathtt{\\eta_{e}} + \\mathtt{\\eta_{v}}}\n",
       "\\end{equation}\n",
       " $$"
      ],
      "text/plain": [
       "(sqrt(((1//4)*(τxx0^2) + (1//4)*(τxy0^2) + ε̇xx*η_e*τxx0 + ε̇xy*η_e*τxy0 + (ε̇xx^2)*(η_e^2) + (ε̇xy^2)*(η_e^2)) / ((η_e + η_v)^2))*η_e + sqrt(((1//4)*(τxx0^2) + (1//4)*(τxy0^2) + ε̇xx*η_e*τxx0 + ε̇xy*η_e*τxy0 + (ε̇xx^2)*(η_e^2) + (ε̇xy^2)*(η_e^2)) / ((η_e + η_v)^2))*η_v - sqrt(((1//4)*(τxx0^2) + (1//4)*(τxy0^2) + ε̇xx*η_e*τxx0 + ε̇xy*η_e*τxy0 + (ε̇xx^2)*(η_e^2) + (ε̇xy^2)*(η_e^2)) / (η_e^2))*η_e) / (η_e + η_v)"
      ]
     },
     "metadata": {},
     "output_type": "display_data"
    }
   ],
   "source": [
    "ε̇II_v1 = sqrt(ε̇xx_v^2 + ε̇xy_v^2)\n",
    "display(ε̇II_v1)\n",
    "display(ε̇II_v)\n",
    "simplify(ε̇II_v1 - ε̇II_v) # should simplify to 0, no?"
   ]
  },
  {
   "cell_type": "code",
   "execution_count": 49,
   "metadata": {},
   "outputs": [],
   "source": []
  },
  {
   "cell_type": "code",
   "execution_count": 46,
   "metadata": {},
   "outputs": [
    {
     "data": {
      "text/plain": [
       "2×2 Matrix{Float64}:\n",
       " 0.0  0.0\n",
       " 0.0  0.0"
      ]
     },
     "metadata": {},
     "output_type": "display_data"
    },
    {
     "data": {
      "text/plain": [
       "0.0"
      ]
     },
     "metadata": {},
     "output_type": "display_data"
    },
    {
     "data": {
      "text/plain": [
       "-0.33701912700350223"
      ]
     },
     "metadata": {},
     "output_type": "display_data"
    }
   ],
   "source": [
    "e  = [-1 0.5; 0.5 1]\n",
    "ev = [-0.9 0.2; 0.2 0.9] \n",
    "ee = e - ev\n",
    "\n",
    "#\n",
    "eII  =  sqrt(e[1,1]^2 + e[1,2])\n",
    "eIIv =  sqrt(ev[1,1]^2 + ev[1,2])\n",
    "eIIe =  sqrt(ee[1,1]^2 + ee[1,2])\n",
    "\n",
    "display(e - ee - ev)\n",
    "rxx = e[1,1] - ee[1,1] - ev[1,1]\n",
    "rxy = e[1,2] - ee[1,2] - ev[1,2]\n",
    "\n",
    "f   = sqrt(rxx^2 + rxy^2)\n",
    "\n",
    "display(rxx + rxy)\n",
    "\n",
    "display(eII - eIIe - eIIv)\n"
   ]
  },
  {
   "cell_type": "code",
   "execution_count": 103,
   "metadata": {},
   "outputs": [
    {
     "data": {
      "text/plain": [
       "-3.944304526105059e-30"
      ]
     },
     "metadata": {},
     "output_type": "display_data"
    },
    {
     "data": {
      "text/plain": [
       "1.1832913578315177e-30"
      ]
     },
     "metadata": {},
     "output_type": "display_data"
    },
    {
     "data": {
      "text/plain": [
       "-1.0874736284271923e-14"
      ]
     },
     "metadata": {},
     "output_type": "display_data"
    },
    {
     "data": {
      "text/plain": [
       "0.0"
      ]
     },
     "metadata": {},
     "output_type": "display_data"
    },
    {
     "data": {
      "text/plain": [
       "1.1180339884493438e-14"
      ]
     },
     "metadata": {},
     "output_type": "display_data"
    },
    {
     "data": {
      "text/plain": [
       "-3.0055115685777647e-24"
      ]
     },
     "metadata": {},
     "output_type": "display_data"
    },
    {
     "data": {
      "text/plain": [
       "2.72638178740996e-30"
      ]
     },
     "metadata": {},
     "output_type": "display_data"
    }
   ],
   "source": [
    "exx    = -1e-14\n",
    "exy    = 0.5e-15\n",
    "\n",
    "txx0   =-1e6\n",
    "txy0   = 0.5e6\n",
    "\n",
    "G      = 1e10\n",
    "dt     = 1e10\n",
    "eta_v  = 1e10\n",
    "eta_e  = G*dt\n",
    "\n",
    "eta_ve = 1/(1/eta_e + 1/eta_v)\n",
    "\n",
    "txx    = 2*eta_ve*(exx + txx0/2/eta_e)\n",
    "txy    = 2*eta_ve*(exy + txy0/2/eta_e)\n",
    "tII    = sqrt(txx^2 + txy^2)\n",
    "\n",
    "eII   = sqrt(exx^2 + exy^2)\n",
    "\n",
    "exx_v = txx/2/eta_v\n",
    "exy_v = txy/2/eta_v\n",
    "eII_v = sqrt(exx_v^2 + exy_v^2)\n",
    "\n",
    "exx_e = (txx-txx0)/2/eta_e\n",
    "exy_e = (txy-txy0)/2/eta_e\n",
    "eII_e = sqrt(exx_e^2 + exy_e^2)\n",
    "\n",
    "display(exx - exx_v - exx_e)\n",
    "display(exy - exy_v - exy_e)\n",
    "\n",
    "display(eII - eII_v - eII_e)\n",
    "\n",
    "display(eII_v - tII/2/eta_v)\n",
    "\n",
    "tII0   = sqrt(txx0^2 + txy0^2)\n",
    "eII_eff = sqrt( (0*exx + txx0/2/eta_e)^2 + (0*exy + txy0/2/eta_e)^2 )\n",
    "display(eII_e - (tII-tII0)/2/eta_e)\n",
    "display(eII_e - eII_eff - (tII)/2/eta_e)\n",
    "\n",
    "eII_eff = sqrt( (exx + txx0/2/eta_e)^2 + (exy + txy0/2/eta_e)^2 )\n",
    "display(eII_eff - eII_v - (tII)/2/eta_e)\n"
   ]
  },
  {
   "cell_type": "code",
   "execution_count": 104,
   "metadata": {},
   "outputs": [
    {
     "name": "stdout",
     "output_type": "stream",
     "text": [
      "(r, r_anton) = (1.514408795535527e-14, 1.5144087955355274e-14)\n",
      "(r, r_anton) = (1.0510887954896637e-14, 1.0510887954896633e-14)\n",
      "(r, r_anton) = (7.295174587342748e-15, 7.295174587342746e-15)\n",
      "(r, r_anton) = (5.063280332563945e-15, 5.063280332563945e-15)\n",
      "(r, r_anton) = (3.514214419296991e-15, 3.5142144192969908e-15)\n",
      "(r, r_anton) = (2.4390715452528095e-15, 2.439071545252809e-15)\n",
      "(r, r_anton) = (1.692859140920608e-15, 1.6928591409206074e-15)\n",
      "(r, r_anton) = (1.1749438332697312e-15, 1.174943833269731e-15)\n",
      "(r, r_anton) = (8.154801412407111e-16, 8.15480141240712e-16)\n",
      "(r, r_anton) = (5.659911920277374e-16, 5.659911920277366e-16)\n",
      "(r, r_anton) = (3.9283118405015383e-16, 3.9283118405015477e-16)\n",
      "(r, r_anton) = (2.7264795165696765e-16, 2.7264795165696873e-16)\n",
      "(r, r_anton) = (1.8923371809822613e-16, 1.8923371809822595e-16)\n",
      "(r, r_anton) = (1.3133933281968182e-16, 1.313393328196817e-16)\n",
      "(r, r_anton) = (9.115722355867483e-17, 9.115722355867637e-17)\n",
      "(r, r_anton) = (6.326847585205072e-17, 6.326847585204942e-17)\n",
      "(r, r_anton) = (4.391204427222166e-17, 4.3912044272221343e-17)\n",
      "(r, r_anton) = (3.0477542033327394e-17, 3.0477542033329274e-17)\n",
      "(r, r_anton) = (2.115320713913473e-17, 2.1153207139135312e-17)\n",
      "(r, r_anton) = (1.4681570179838953e-17, 1.468157017983804e-17)\n",
      "(r, r_anton) = (1.0189873409158993e-17, 1.0189873409159864e-17)\n",
      "(r, r_anton) = (7.0723716075888e-18, 7.072371607587977e-18)\n",
      "(r, r_anton) = (4.908641957303926e-18, 4.908641957303853e-18)\n",
      "(r, r_anton) = (3.406886289621198e-18, 3.406886289620956e-18)\n",
      "(r, r_anton) = (2.3645795092330593e-18, 2.3645795092334872e-18)\n",
      "(r, r_anton) = (1.64115728561947e-18, 1.6411572856187164e-18)\n",
      "(r, r_anton) = (1.1390597041157017e-18, 1.1390597041139587e-18)\n",
      "(r, r_anton) = (7.905744445753917e-19, 7.905744445758484e-19)\n",
      "(r, r_anton) = (5.487051733572988e-19, 5.487051733591118e-19)\n",
      "(r, r_anton) = (3.8083367017045824e-19, 3.80833670171272e-19)\n",
      "(r, r_anton) = (2.643209712271463e-19, 2.6432097122396104e-19)\n",
      "(r, r_anton) = (1.8345430380669797e-19, 1.8345430380646058e-19)\n",
      "(r, r_anton) = (1.2732807930275222e-19, 1.2732807930397923e-19)\n",
      "(r, r_anton) = (8.837317763857671e-20, 8.83731776362425e-20)\n",
      "(r, r_anton) = (6.13361841994384e-20, 6.133618420188707e-20)\n",
      "(r, r_anton) = (4.2570920191121874e-20, 4.2570920191365564e-20)\n",
      "(r, r_anton) = (2.95467230249634e-20, 2.954672302325117e-20)\n",
      "(r, r_anton) = (2.0507163989747385e-20, 2.0507163987754475e-20)\n",
      "(r, r_anton) = (1.4233178227195142e-20, 1.4233178225933817e-20)\n",
      "(r, r_anton) = (9.878663016584085e-21, 9.878663015229723e-21)\n",
      "(r, r_anton) = (6.85637328623614e-21, 6.856373283584943e-21)\n",
      "(r, r_anton) = (4.758726416692409e-21, 4.758726414812771e-21)\n",
      "(r, r_anton) = (3.3028360848799194e-21, 3.3028360836345435e-21)\n",
      "(r, r_anton) = (2.2923625458134703e-21, 2.29236254471343e-21)\n",
      "(r, r_anton) = (1.5910344639390465e-21, 1.5910344658809504e-21)\n",
      "(r, r_anton) = (1.1042715187630577e-21, 1.104271520357467e-21)\n",
      "(r, r_anton) = (7.664293975036529e-22, 7.664293989040311e-22)\n",
      "(r, r_anton) = (5.319470915701273e-22, 5.319470896808047e-22)\n",
      "(r, r_anton) = (3.6920257484737756e-22, 3.692025763397569e-22)\n",
      "(r, r_anton) = (2.5624830657568964e-22, 2.562483064577096e-22)\n",
      "(r, r_anton) = (1.7785140268019247e-22, 1.7785140435231437e-22)\n",
      "(r, r_anton) = (1.2343933573750943e-22, 1.2343933528968852e-22)\n",
      "(r, r_anton) = (8.567416430916853e-23, 8.567416561583029e-23)\n",
      "(r, r_anton) = (5.946291002704477e-23, 5.94629115073713e-23)\n",
      "(r, r_anton) = (4.1270756242902734e-23, 4.127075666742239e-23)\n",
      "(r, r_anton) = (2.8644334044705634e-23, 2.864433421417e-23)\n",
      "(r, r_anton) = (1.988085469835896e-23, 1.9880856329088087e-23)\n",
      "(r, r_anton) = (1.379848052753704e-23, 1.3798480002848937e-23)\n",
      "(r, r_anton) = (9.576956900938843e-24, 9.576957132452577e-24)\n",
      "(r, r_anton) = (6.646970388514356e-24, 6.646969957987697e-24)\n",
      "(r, r_anton) = (4.613390676797633e-24, 4.6133906737640596e-24)\n",
      "(r, r_anton) = (3.2019631762199693e-24, 3.2019670528887244e-24)\n",
      "(r, r_anton) = (2.2223501240925097e-24, 2.2223501143564476e-24)\n",
      "(r, r_anton) = (1.5424457493166543e-24, 1.5424466772965717e-24)\n",
      "(r, r_anton) = (1.0705455159950125e-24, 1.0705469283025515e-24)\n",
      "(r, r_anton) = (7.430240673274604e-25, 7.430245021965189e-25)\n",
      "(r, r_anton) = (5.156997148265697e-25, 5.157000328380578e-25)\n",
      "(r, r_anton) = (3.579244245651698e-25, 3.5792469633445704e-25)\n",
      "(r, r_anton) = (2.484213889703264e-25, 2.4842449179158873e-25)\n",
      "(r, r_anton) = (1.7242013756015708e-25, 1.7242247673137545e-25)\n",
      "(r, r_anton) = (1.19668611982435e-25, 1.196729257157818e-25)\n",
      "(r, r_anton) = (8.30581181728846e-26, 8.305715793538184e-26)\n",
      "(r, r_anton) = (5.764618841908259e-26, 5.764637045386152e-26)\n",
      "(r, r_anton) = (4.001175692547332e-26, 4.0013751498598034e-26)\n",
      "(r, r_anton) = (2.7767596478056436e-26, 2.777063024834358e-26)\n",
      "(r, r_anton) = (1.9272174104352897e-26, 1.927302057645318e-26)\n",
      "(r, r_anton) = (1.3376857654527826e-26, 1.337549644843131e-26)\n",
      "(r, r_anton) = (9.280567262115965e-27, 9.279730628114231e-27)\n",
      "(r, r_anton) = (6.44228783583984e-27, 6.442986812655701e-27)\n",
      "(r, r_anton) = (4.469756354756775e-27, 4.470834549405909e-27)\n",
      "(r, r_anton) = (3.1021345266735946e-27, 3.1013720178052136e-27)\n",
      "(r, r_anton) = (2.152844083282165e-27, 2.154738931445409e-27)\n",
      "(r, r_anton) = (1.4962618753269895e-27, 1.4952512146148888e-27)\n",
      "(r, r_anton) = (1.036159189694506e-27, 1.0345564459197165e-27)\n",
      "(r, r_anton) = (7.176146944273883e-28, 7.221675274207881e-28)\n",
      "(r, r_anton) = (4.987797265048186e-28, 5.012864739368643e-28)\n",
      "(r, r_anton) = (3.475523211371684e-28, 3.466697364981176e-28)\n",
      "(r, r_anton) = (2.414226929429572e-28, 2.4254009699865845e-28)\n",
      "(r, r_anton) = (1.6739472271596004e-28, 1.668094500899108e-28)\n",
      "(r, r_anton) = (1.1587665884482943e-28, 1.1632235215062326e-28)\n",
      "(r, r_anton) = (8.36201862087542e-29, 8.476791593847671e-29)\n",
      "(r, r_anton) = (5.476763062182872e-29, 5.636892334776522e-29)\n",
      "(r, r_anton) = (3.8599811306558275e-29, 3.743626162062423e-29)\n",
      "(r, r_anton) = (2.5840463217877894e-29, 2.796993075687006e-29)\n",
      "(r, r_anton) = (1.6171648557030742e-29, 1.8503599893483235e-29)\n",
      "(r, r_anton) = (9.757670508439781e-30, 1.2192712651164127e-29)\n",
      "(r, r_anton) = (6.505113672293188e-30, 9.037269029729067e-30)\n",
      "(r, r_anton) = (6.420862575684833e-30, 5.881825408477678e-30)\n",
      "(r, r_anton) = (3.252556836146594e-30, 2.72638178740996e-30)\n",
      "(r, r_anton) = (3.252556836146594e-30, 2.72638178740996e-30)\n"
     ]
    },
    {
     "data": {
      "text/plain": [
       "0.0"
      ]
     },
     "metadata": {},
     "output_type": "display_data"
    }
   ],
   "source": [
    "eta_ve = 1e8\n",
    "\n",
    "eII_eff = sqrt( (exx + txx0/2/eta_e)^2 + (exy + txy0/2/eta_e)^2 )\n",
    "\n",
    "for iter=1:100\n",
    "\n",
    "    txx    = 2*eta_ve*(exx + txx0/2/eta_e)\n",
    "    txy    = 2*eta_ve*(exy + txy0/2/eta_e)\n",
    "\n",
    "    exx_v = txx/2/eta_v\n",
    "    exy_v = txy/2/eta_v\n",
    "    eII_v = sqrt(exx_v^2 + exy_v^2)\n",
    "\n",
    "    exx_e = (txx-txx0)/2/eta_e\n",
    "    exy_e = (txy-txy0)/2/eta_e\n",
    "\n",
    "    r     = sqrt( (exx-exx_e-exx_v)^2 + (exy-exy_e-exy_v)^2 )\n",
    "\n",
    "    eII_eff = sqrt( (exx + txx0/2/eta_e)^2 + (exy + txy0/2/eta_e)^2 )\n",
    "    tII     = sqrt(txx^2 + txy^2)\n",
    "    r_anton = eII_eff - tII/2/eta_v - tII/2/eta_e\n",
    "\n",
    "    eta_ve += 2e23*r\n",
    "    @show r, r_anton\n",
    "\n",
    "end\n",
    "\n",
    "eta_ve - 1/(1/eta_e + 1/eta_v)"
   ]
  },
  {
   "cell_type": "code",
   "execution_count": 113,
   "metadata": {},
   "outputs": [
    {
     "data": {
      "text/plain": [
       "-3.545445033624507e-16"
      ]
     },
     "metadata": {},
     "output_type": "display_data"
    },
    {
     "data": {
      "text/plain": [
       "0.0"
      ]
     },
     "metadata": {},
     "output_type": "display_data"
    },
    {
     "data": {
      "text/plain": [
       "-1.6361002689210762"
      ]
     },
     "metadata": {},
     "output_type": "display_data"
    },
    {
     "data": {
      "text/plain": [
       "9.383507416799013e-17"
      ]
     },
     "metadata": {},
     "output_type": "display_data"
    }
   ],
   "source": [
    "# 2 springs, one dashpot\n",
    "exx    = -1e-14\n",
    "exy    = 0.5e-15\n",
    "\n",
    "txx0   =-1e6\n",
    "txy0   = 0.5e6\n",
    "\n",
    "G1     = 1e10\n",
    "G2     = 2e10\n",
    "dt     = 1e10\n",
    "eta_v  = 1e10\n",
    "\n",
    "eta_e1  = G1*dt\n",
    "eta_e2  = G2*dt\n",
    "\n",
    "eta_ve = 1/(1/eta_e1 + 1/eta_e2 + 1/eta_v)\n",
    "\n",
    "txx    = 2*eta_ve*(exx + txx0/2/eta_e1 + txx0/2/eta_e2)\n",
    "txy    = 2*eta_ve*(exy + txy0/2/eta_e1 + txy0/2/eta_e2)\n",
    "tII    = sqrt(txx^2 + txy^2)\n",
    "\n",
    "eII    = sqrt(exx^2 + exy^2)\n",
    "\n",
    "exx_v = txx/2/eta_v\n",
    "exy_v = txy/2/eta_v\n",
    "eII_v = sqrt(exx_v^2 + exy_v^2)\n",
    "\n",
    "exx_e1 = (txx-txx0)/2/eta_e1\n",
    "exy_e1 = (txy-txy0)/2/eta_e1\n",
    "eII_e1 = sqrt(exx_e1^2 + exy_e1^2)\n",
    "\n",
    "exx_e2 = (txx-txx0)/2/eta_e2\n",
    "exy_e2 = (txy-txy0)/2/eta_e2\n",
    "eII_e2 = sqrt(exx_e2^2 + exy_e2^2)\n",
    "\n",
    "display((exx - exx_v - exx_e1 - exx_e2)/eII)\n",
    "display((exy - exy_v - exy_e1 - exy_e2)/eII)\n",
    "\n",
    "display((eII - eII_v - eII_e1 - eII_e2)/eII)\n",
    "\n",
    "exx_eff = exx + txx0/2/eta_e1 + txx0/2/eta_e2\n",
    "exy_eff = exy + txy0/2/eta_e1 + txy0/2/eta_e2\n",
    "eII_eff    = sqrt(exx_eff^2 + exy_eff^2)\n",
    "display((eII_eff - tII/2/eta_v - tII/2/eta_e1 - tII/2/eta_e2)/eII)\n",
    "\n"
   ]
  },
  {
   "cell_type": "code",
   "execution_count": 142,
   "metadata": {},
   "outputs": [
    {
     "data": {
      "text/plain": [
       "3.2499912808224647e-16"
      ]
     },
     "metadata": {},
     "output_type": "display_data"
    },
    {
     "data": {
      "text/plain": [
       "-4.431806292030634e-17"
      ]
     },
     "metadata": {},
     "output_type": "display_data"
    },
    {
     "data": {
      "text/plain": [
       "-0.12855120200613185"
      ]
     },
     "metadata": {},
     "output_type": "display_data"
    },
    {
     "data": {
      "text/plain": [
       "-3.545445033624507e-16"
      ]
     },
     "metadata": {},
     "output_type": "display_data"
    }
   ],
   "source": [
    "# 2 springs, one dashpot, one parallel spring/dashpot\n",
    "exx    = -1e-14\n",
    "exy    = 0.5e-15\n",
    "\n",
    "txx10   =-1e6\n",
    "txy10   = 0.5e6\n",
    "\n",
    "txx20   =-2e6\n",
    "txy20   = 0.8e6\n",
    "\n",
    "G1     = 1e10\n",
    "G2     = 2e10\n",
    "G3     = 3e10\n",
    "dt     = 1e10\n",
    "eta_v1  = 1e20\n",
    "eta_v2  = 4e20\n",
    "\n",
    "eta_e1  = G1*dt\n",
    "eta_e2  = G2*dt\n",
    "eta_e3  = G3*dt\n",
    "\n",
    "eta_K  = eta_v2 + eta_e3\n",
    "eta_ve  = 1/(1/eta_e1 + 1/eta_e2 + 1/eta_v1 + 1/eta_K)\n",
    "\n",
    "txx    = 2*eta_ve*(exx + txx10/2/eta_e1 + txx10/2/eta_e2 + txx20/2/eta_K)\n",
    "txy    = 2*eta_ve*(exy + txy10/2/eta_e1 + txy10/2/eta_e2 + txy20/2/eta_K)\n",
    "tII    = sqrt(txx^2 + txy^2)\n",
    "\n",
    "eII    = sqrt(exx^2 + exy^2)\n",
    "\n",
    "exx_v = txx/2/eta_v1\n",
    "exy_v = txy/2/eta_v1\n",
    "eII_v = sqrt(exx_v^2 + exy_v^2)\n",
    "\n",
    "exx_e1 = (txx-txx10)/2/eta_e1\n",
    "exy_e1 = (txy-txy10)/2/eta_e1\n",
    "eII_e1 = sqrt(exx_e1^2 + exy_e1^2)\n",
    "\n",
    "exx_e2 = (txx-txx10)/2/eta_e2\n",
    "exy_e2 = (txy-txy10)/2/eta_e2\n",
    "eII_e2 = sqrt(exx_e2^2 + exy_e2^2)\n",
    "\n",
    "exx_K  = (txx-txx20)/2/eta_K\n",
    "exy_K  = (txy-txy20)/2/eta_K\n",
    "eII_K  = sqrt(exx_K^2 + exy_K^2)\n",
    "\n",
    "display((exx - exx_v - exx_e1 - exx_e2 - exx_K)/eII)\n",
    "display((exy - exy_v - exy_e1 - exy_e2 - exy_K)/eII)\n",
    "display((eII - eII_v - eII_e1 - eII_e2 - eII_K)/eII)\n",
    "\n",
    "exx_eff = exx + txx10/2/eta_e1 + txx10/2/eta_e2 + txx20/2/eta_K\n",
    "exy_eff = exy + txy10/2/eta_e1 + txy10/2/eta_e2 + txy20/2/eta_K\n",
    "eII_eff = sqrt(exx_eff^2 + exy_eff^2)\n",
    "display((eII_eff - tII/2/eta_v1 - tII/2/eta_e1 - tII/2/eta_e2 - tII/2/eta_K)/eII)\n"
   ]
  },
  {
   "cell_type": "code",
   "execution_count": null,
   "metadata": {},
   "outputs": [],
   "source": []
  }
 ],
 "metadata": {
  "kernelspec": {
   "display_name": "Julia 1.10.10",
   "language": "julia",
   "name": "julia-1.10"
  },
  "language_info": {
   "file_extension": ".jl",
   "mimetype": "application/julia",
   "name": "julia",
   "version": "1.10.10"
  }
 },
 "nbformat": 4,
 "nbformat_minor": 2
}
