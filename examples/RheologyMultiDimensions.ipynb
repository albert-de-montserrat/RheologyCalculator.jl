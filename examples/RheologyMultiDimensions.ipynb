{
 "cells": [
  {
   "cell_type": "code",
   "execution_count": 1,
   "metadata": {},
   "outputs": [],
   "source": [
    "using Symbolics"
   ]
  },
  {
   "cell_type": "code",
   "execution_count": 9,
   "metadata": {},
   "outputs": [
    {
     "data": {
      "text/plain": [
       "(τxx0, τxy0)"
      ]
     },
     "metadata": {},
     "output_type": "display_data"
    }
   ],
   "source": [
    "@syms η_v η_e \n",
    "@syms ε̇xx ε̇xy\n",
    "@syms τxx0 τxy0"
   ]
  },
  {
   "cell_type": "code",
   "execution_count": null,
   "metadata": {},
   "outputs": [
    {
     "data": {
      "text/latex": [
       "$$ \\begin{equation}\n",
       "\\frac{2 \\left( \\frac{\\frac{1}{2} \\mathtt{{\\tau}xy0}}{\\mathtt{\\eta_{e}}} + \\mathtt{{\\dot{\\varepsilon}}xy} \\right)}{\\frac{1}{\\mathtt{\\eta_{v}}} + \\frac{1}{\\mathtt{\\eta_{e}}}}\n",
       "\\end{equation}\n",
       " $$"
      ],
      "text/plain": [
       "(2(((1//2)*τxy0) / η_e + ε̇xy)) / (1 / η_v + 1 / η_e)"
      ]
     },
     "metadata": {},
     "output_type": "display_data"
    }
   ],
   "source": [
    "# Maxwell VE model using backward-Euler rule\n",
    "η_ve = (1/η_v + 1/η_e)^(-1)\n",
    "τxx  = 2*η_ve*(ε̇xx + τxx0/2/η_e)\n",
    "τxy  = 2*η_ve*(ε̇xy + τxy0/2/η_e)"
   ]
  },
  {
   "cell_type": "code",
   "execution_count": 11,
   "metadata": {},
   "outputs": [
    {
     "data": {
      "text/latex": [
       "$$ \\begin{equation}\n",
       "\\frac{\\frac{1}{2} \\left( \\frac{2 \\left( \\frac{\\frac{1}{2} \\mathtt{{\\tau}xy0}}{\\mathtt{\\eta_{e}}} + \\mathtt{{\\dot{\\varepsilon}}xy} \\right)}{\\frac{1}{\\mathtt{\\eta_{v}}} + \\frac{1}{\\mathtt{\\eta_{e}}}} - \\mathtt{{\\tau}xy0} \\right)}{\\mathtt{\\eta_{e}}}\n",
       "\\end{equation}\n",
       " $$"
      ],
      "text/plain": [
       "((1//2)*((2(((1//2)*τxy0) / η_e + ε̇xy)) / (1 / η_v + 1 / η_e) - τxy0)) / η_e"
      ]
     },
     "metadata": {},
     "output_type": "display_data"
    }
   ],
   "source": [
    "# VE Strain rate tensor components\n",
    "ε̇xx_v = τxx/2/η_v\n",
    "ε̇xy_v = τxy/2/η_v\n",
    "ε̇xx_e = (τxx - τxx0)/2/η_e\n",
    "ε̇xy_e = (τxy - τxy0)/2/η_e"
   ]
  },
  {
   "cell_type": "code",
   "execution_count": 15,
   "metadata": {},
   "outputs": [
    {
     "data": {
      "text/plain": [
       "0"
      ]
     },
     "metadata": {},
     "output_type": "display_data"
    },
    {
     "data": {
      "text/plain": [
       "0"
      ]
     },
     "metadata": {},
     "output_type": "display_data"
    }
   ],
   "source": [
    "# Per dimension residual: OK\n",
    "r = ε̇xx - ε̇xx_v - ε̇xx_e\n",
    "display(simplify(r))\n",
    "r = ε̇xy - ε̇xy_v - ε̇xy_e\n",
    "display(simplify(r))\n"
   ]
  },
  {
   "cell_type": "code",
   "execution_count": 16,
   "metadata": {},
   "outputs": [
    {
     "data": {
      "text/plain": [
       "0"
      ]
     },
     "metadata": {},
     "output_type": "display_data"
    }
   ],
   "source": [
    "# Effective strain rate residual (Anton's approach): OK \n",
    "ε̇II_eff = sqrt((ε̇xx + τxx0/2/η_e)^2 + (ε̇xy + τxy0/2/η_e)^2)\n",
    "τII     = 2*η_ve*ε̇II_eff\n",
    "ε̇II_v   = τII/2/η_v\n",
    "r       = ε̇II_eff - ε̇II_v - τII/2/η_e\n",
    "simplify(r)\n"
   ]
  },
  {
   "cell_type": "code",
   "execution_count": 17,
   "metadata": {},
   "outputs": [
    {
     "data": {
      "text/latex": [
       "$$ \\begin{equation}\n",
       "\\frac{\\sqrt{\\mathtt{{\\dot{\\varepsilon}}xx}^{2} + \\mathtt{{\\dot{\\varepsilon}}xy}^{2}} \\mathtt{\\eta_{e}} + \\sqrt{\\mathtt{{\\dot{\\varepsilon}}xx}^{2} + \\mathtt{{\\dot{\\varepsilon}}xy}^{2}} \\mathtt{\\eta_{v}} - \\sqrt{\\frac{\\frac{1}{4} \\mathtt{{\\tau}xx0}^{2} + \\frac{1}{4} \\mathtt{{\\tau}xy0}^{2} + \\mathtt{{\\dot{\\varepsilon}}xx} \\mathtt{\\eta_{e}} \\mathtt{{\\tau}xx0} + \\mathtt{{\\dot{\\varepsilon}}xy} \\mathtt{\\eta_{e}} \\mathtt{{\\tau}xy0} + \\mathtt{\\eta_{e}}^{2} \\mathtt{{\\dot{\\varepsilon}}xx}^{2} + \\mathtt{\\eta_{e}}^{2} \\mathtt{{\\dot{\\varepsilon}}xy}^{2}}{\\mathtt{\\eta_{e}}^{2}}} \\mathtt{\\eta_{e}} - \\sqrt{\\frac{\\frac{1}{4} \\mathtt{{\\tau}xx0}^{2} + \\frac{1}{4} \\mathtt{{\\tau}xy0}^{2} - \\mathtt{{\\dot{\\varepsilon}}xx} \\mathtt{\\eta_{v}} \\mathtt{{\\tau}xx0} - \\mathtt{{\\dot{\\varepsilon}}xy} \\mathtt{\\eta_{v}} \\mathtt{{\\tau}xy0} + \\mathtt{\\eta_{v}}^{2} \\mathtt{{\\dot{\\varepsilon}}xx}^{2} + \\mathtt{\\eta_{v}}^{2} \\mathtt{{\\dot{\\varepsilon}}xy}^{2}}{\\left( \\mathtt{\\eta_{e}} + \\mathtt{\\eta_{v}} \\right)^{2}}} \\mathtt{\\eta_{e}} - \\sqrt{\\frac{\\frac{1}{4} \\mathtt{{\\tau}xx0}^{2} + \\frac{1}{4} \\mathtt{{\\tau}xy0}^{2} - \\mathtt{{\\dot{\\varepsilon}}xx} \\mathtt{\\eta_{v}} \\mathtt{{\\tau}xx0} - \\mathtt{{\\dot{\\varepsilon}}xy} \\mathtt{\\eta_{v}} \\mathtt{{\\tau}xy0} + \\mathtt{\\eta_{v}}^{2} \\mathtt{{\\dot{\\varepsilon}}xx}^{2} + \\mathtt{\\eta_{v}}^{2} \\mathtt{{\\dot{\\varepsilon}}xy}^{2}}{\\left( \\mathtt{\\eta_{e}} + \\mathtt{\\eta_{v}} \\right)^{2}}} \\mathtt{\\eta_{v}}}{\\mathtt{\\eta_{e}} + \\mathtt{\\eta_{v}}}\n",
       "\\end{equation}\n",
       " $$"
      ],
      "text/plain": [
       "(sqrt(ε̇xx^2 + ε̇xy^2)*η_e + sqrt(ε̇xx^2 + ε̇xy^2)*η_v - sqrt(((1//4)*(τxx0^2) + (1//4)*(τxy0^2) + ε̇xx*η_e*τxx0 + ε̇xy*η_e*τxy0 + (ε̇xx^2)*(η_e^2) + (ε̇xy^2)*(η_e^2)) / (η_e^2))*η_e - sqrt(((1//4)*(τxx0^2) + (1//4)*(τxy0^2) - ε̇xx*η_v*τxx0 - ε̇xy*η_v*τxy0 + (ε̇xx^2)*(η_v^2) + (ε̇xy^2)*(η_v^2)) / ((η_e + η_v)^2))*η_e - sqrt(((1//4)*(τxx0^2) + (1//4)*(τxy0^2) - ε̇xx*η_v*τxx0 - ε̇xy*η_v*τxy0 + (ε̇xx^2)*(η_v^2) + (ε̇xy^2)*(η_v^2)) / ((η_e + η_v)^2))*η_v) / (η_e + η_v)"
      ]
     },
     "metadata": {},
     "output_type": "display_data"
    }
   ],
   "source": [
    "# Invariant residual: not OK\n",
    "ε̇II   = sqrt(ε̇xx^2   + ε̇xy^2  )\n",
    "# ε̇II_v = sqrt(ε̇xx_v^2 + ε̇xy_v^2)\n",
    "ε̇II_e = sqrt(ε̇xx_e^2 + ε̇xy_e^2)\n",
    "r     = ε̇II - ε̇II_v - ε̇II_e\n",
    "simplify(r)"
   ]
  },
  {
   "cell_type": "code",
   "execution_count": 18,
   "metadata": {},
   "outputs": [
    {
     "data": {
      "text/latex": [
       "$$ \\begin{equation}\n",
       "\\frac{\\sqrt{\\mathtt{{\\tau}xx0}^{2} + \\mathtt{{\\tau}xy0}^{2}} + 2 \\sqrt{\\mathtt{{\\dot{\\varepsilon}}xx}^{2} + \\mathtt{{\\dot{\\varepsilon}}xy}^{2}} \\mathtt{\\eta_{e}} - 2 \\sqrt{\\frac{\\frac{1}{4} \\mathtt{{\\tau}xx0}^{2} + \\frac{1}{4} \\mathtt{{\\tau}xy0}^{2} + \\mathtt{{\\dot{\\varepsilon}}xx} \\mathtt{\\eta_{e}} \\mathtt{{\\tau}xx0} + \\mathtt{{\\dot{\\varepsilon}}xy} \\mathtt{\\eta_{e}} \\mathtt{{\\tau}xy0} + \\mathtt{\\eta_{e}}^{2} \\mathtt{{\\dot{\\varepsilon}}xx}^{2} + \\mathtt{\\eta_{e}}^{2} \\mathtt{{\\dot{\\varepsilon}}xy}^{2}}{\\mathtt{\\eta_{e}}^{2}}} \\mathtt{\\eta_{e}}}{2 \\mathtt{\\eta_{e}}}\n",
       "\\end{equation}\n",
       " $$"
      ],
      "text/plain": [
       "(sqrt(τxx0^2 + τxy0^2) + (2//1)*sqrt(ε̇xx^2 + ε̇xy^2)*η_e - (2//1)*sqrt(((1//4)*(τxx0^2) + (1//4)*(τxy0^2) + ε̇xx*η_e*τxx0 + ε̇xy*η_e*τxy0 + (ε̇xx^2)*(η_e^2) + (ε̇xy^2)*(η_e^2)) / (η_e^2))*η_e) / (2η_e)"
      ]
     },
     "metadata": {},
     "output_type": "display_data"
    }
   ],
   "source": [
    "# Invariant residual using weird elastic strain rate: not OK\n",
    "τII0  = sqrt(τxx0^2 + τxy0^2)\n",
    "ε̇II_e = (τII - τII0)/2/η_e   \n",
    "r     = ε̇II - ε̇II_v - ε̇II_e\n",
    "simplify(r)"
   ]
  },
  {
   "cell_type": "code",
   "execution_count": 19,
   "metadata": {},
   "outputs": [
    {
     "data": {
      "text/latex": [
       "$$ \\begin{equation}\n",
       "\\sqrt{\\left( \\frac{\\frac{\\frac{1}{2} \\mathtt{{\\tau}xy0}}{\\mathtt{\\eta_{e}}} + \\mathtt{{\\dot{\\varepsilon}}xy}}{\\left( \\frac{1}{\\mathtt{\\eta_{v}}} + \\frac{1}{\\mathtt{\\eta_{e}}} \\right) \\mathtt{\\eta_{v}}} \\right)^{2} + \\left( \\frac{\\frac{\\frac{1}{2} \\mathtt{{\\tau}xx0}}{\\mathtt{\\eta_{e}}} + \\mathtt{{\\dot{\\varepsilon}}xx}}{\\left( \\frac{1}{\\mathtt{\\eta_{v}}} + \\frac{1}{\\mathtt{\\eta_{e}}} \\right) \\mathtt{\\eta_{v}}} \\right)^{2}}\n",
       "\\end{equation}\n",
       " $$"
      ],
      "text/plain": [
       "sqrt(((((1//2)*τxy0) / η_e + ε̇xy) / ((1 / η_v + 1 / η_e)*η_v))^2 + ((((1//2)*τxx0) / η_e + ε̇xx) / ((1 / η_v + 1 / η_e)*η_v))^2)"
      ]
     },
     "metadata": {},
     "output_type": "display_data"
    },
    {
     "data": {
      "text/latex": [
       "$$ \\begin{equation}\n",
       "\\frac{\\sqrt{\\left( \\frac{\\frac{1}{2} \\mathtt{{\\tau}xx0}}{\\mathtt{\\eta_{e}}} + \\mathtt{{\\dot{\\varepsilon}}xx} \\right)^{2} + \\left( \\frac{\\frac{1}{2} \\mathtt{{\\tau}xy0}}{\\mathtt{\\eta_{e}}} + \\mathtt{{\\dot{\\varepsilon}}xy} \\right)^{2}}}{\\left( \\frac{1}{\\mathtt{\\eta_{v}}} + \\frac{1}{\\mathtt{\\eta_{e}}} \\right) \\mathtt{\\eta_{v}}}\n",
       "\\end{equation}\n",
       " $$"
      ],
      "text/plain": [
       "sqrt((((1//2)*τxx0) / η_e + ε̇xx)^2 + (((1//2)*τxy0) / η_e + ε̇xy)^2) / ((1 / η_v + 1 / η_e)*η_v)"
      ]
     },
     "metadata": {},
     "output_type": "display_data"
    },
    {
     "data": {
      "text/latex": [
       "$$ \\begin{equation}\n",
       "\\frac{\\sqrt{\\frac{\\frac{1}{4} \\mathtt{{\\tau}xx0}^{2} + \\frac{1}{4} \\mathtt{{\\tau}xy0}^{2} + \\mathtt{{\\dot{\\varepsilon}}xx} \\mathtt{\\eta_{e}} \\mathtt{{\\tau}xx0} + \\mathtt{{\\dot{\\varepsilon}}xy} \\mathtt{\\eta_{e}} \\mathtt{{\\tau}xy0} + \\mathtt{\\eta_{e}}^{2} \\mathtt{{\\dot{\\varepsilon}}xx}^{2} + \\mathtt{\\eta_{e}}^{2} \\mathtt{{\\dot{\\varepsilon}}xy}^{2}}{\\left( \\mathtt{\\eta_{e}} + \\mathtt{\\eta_{v}} \\right)^{2}}} \\mathtt{\\eta_{e}} + \\sqrt{\\frac{\\frac{1}{4} \\mathtt{{\\tau}xx0}^{2} + \\frac{1}{4} \\mathtt{{\\tau}xy0}^{2} + \\mathtt{{\\dot{\\varepsilon}}xx} \\mathtt{\\eta_{e}} \\mathtt{{\\tau}xx0} + \\mathtt{{\\dot{\\varepsilon}}xy} \\mathtt{\\eta_{e}} \\mathtt{{\\tau}xy0} + \\mathtt{\\eta_{e}}^{2} \\mathtt{{\\dot{\\varepsilon}}xx}^{2} + \\mathtt{\\eta_{e}}^{2} \\mathtt{{\\dot{\\varepsilon}}xy}^{2}}{\\left( \\mathtt{\\eta_{e}} + \\mathtt{\\eta_{v}} \\right)^{2}}} \\mathtt{\\eta_{v}} - \\sqrt{\\frac{\\frac{1}{4} \\mathtt{{\\tau}xx0}^{2} + \\frac{1}{4} \\mathtt{{\\tau}xy0}^{2} + \\mathtt{{\\dot{\\varepsilon}}xx} \\mathtt{\\eta_{e}} \\mathtt{{\\tau}xx0} + \\mathtt{{\\dot{\\varepsilon}}xy} \\mathtt{\\eta_{e}} \\mathtt{{\\tau}xy0} + \\mathtt{\\eta_{e}}^{2} \\mathtt{{\\dot{\\varepsilon}}xx}^{2} + \\mathtt{\\eta_{e}}^{2} \\mathtt{{\\dot{\\varepsilon}}xy}^{2}}{\\mathtt{\\eta_{e}}^{2}}} \\mathtt{\\eta_{e}}}{\\mathtt{\\eta_{e}} + \\mathtt{\\eta_{v}}}\n",
       "\\end{equation}\n",
       " $$"
      ],
      "text/plain": [
       "(sqrt(((1//4)*(τxx0^2) + (1//4)*(τxy0^2) + ε̇xx*η_e*τxx0 + ε̇xy*η_e*τxy0 + (ε̇xx^2)*(η_e^2) + (ε̇xy^2)*(η_e^2)) / ((η_e + η_v)^2))*η_e + sqrt(((1//4)*(τxx0^2) + (1//4)*(τxy0^2) + ε̇xx*η_e*τxx0 + ε̇xy*η_e*τxy0 + (ε̇xx^2)*(η_e^2) + (ε̇xy^2)*(η_e^2)) / ((η_e + η_v)^2))*η_v - sqrt(((1//4)*(τxx0^2) + (1//4)*(τxy0^2) + ε̇xx*η_e*τxx0 + ε̇xy*η_e*τxy0 + (ε̇xx^2)*(η_e^2) + (ε̇xy^2)*(η_e^2)) / (η_e^2))*η_e) / (η_e + η_v)"
      ]
     },
     "metadata": {},
     "output_type": "display_data"
    }
   ],
   "source": [
    "ε̇II_v1 = sqrt(ε̇xx_v^2 + ε̇xy_v^2)\n",
    "display(ε̇II_v1)\n",
    "display(ε̇II_v)\n",
    "simplify(ε̇II_v1 - ε̇II_v) # should simplify to 0, no?"
   ]
  },
  {
   "cell_type": "code",
   "execution_count": null,
   "metadata": {},
   "outputs": [],
   "source": []
  }
 ],
 "metadata": {
  "kernelspec": {
   "display_name": "Julia 1.10.10",
   "language": "julia",
   "name": "julia-1.10"
  },
  "language_info": {
   "file_extension": ".jl",
   "mimetype": "application/julia",
   "name": "julia",
   "version": "1.10.10"
  }
 },
 "nbformat": 4,
 "nbformat_minor": 2
}
